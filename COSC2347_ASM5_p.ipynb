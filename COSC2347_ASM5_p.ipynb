{
  "nbformat": 4,
  "nbformat_minor": 0,
  "metadata": {
    "colab": {
      "provenance": [],
      "include_colab_link": true
    },
    "kernelspec": {
      "name": "python3",
      "display_name": "Python 3"
    },
    "language_info": {
      "name": "python"
    }
  },
  "cells": [
    {
      "cell_type": "markdown",
      "metadata": {
        "id": "view-in-github",
        "colab_type": "text"
      },
      "source": [
        "<a href=\"https://colab.research.google.com/github/G5518/G5518/blob/main/COSC2347_ASM5_p.ipynb\" target=\"_parent\"><img src=\"https://colab.research.google.com/assets/colab-badge.svg\" alt=\"Open In Colab\"/></a>"
      ]
    },
    {
      "cell_type": "markdown",
      "source": [
        "# Tribonacci number\n",
        "The Tribonacci sequence $T_n$ is defined as follows: \n",
        "\n",
        "$T_0 = 0$, $T_1 = 1$, $T_2 = 1$, and $T_{n} = T_{n-1} + T_{n-2} + T_{n-3}$ for $n >= 3$.\n",
        "\n",
        "Given n, return the value of $T_n$.\n",
        "\n",
        "## Exercise 1. Recursive (easy) approach\n",
        "Implement this algorithm using recursive approach."
      ],
      "metadata": {
        "id": "ReDMM75XcKru"
      }
    },
    {
      "cell_type": "code",
      "source": [
        "def tribo_recur(n):\n",
        "  # 1. if n  is 0 return 0\n",
        "  # 2. if n is 1 or 2 return 1\n",
        "  # 3. otherwise return the sum of tribonacci number of the previous 3\n",
        "  # CODE_HERE\n",
        "  if n == 0:\n",
        "    return 0\n",
        "  elif n == 1 or n == 2:\n",
        "    return 1\n",
        "  else:\n",
        "    return tribo_recur(n-1) + tribo_recur(n-2) + tribo_recur(n-3)"
      ],
      "metadata": {
        "id": "fkb-zzSjigDn"
      },
      "execution_count": null,
      "outputs": []
    },
    {
      "cell_type": "code",
      "source": [
        "def test(func, i, o):\n",
        "  try:\n",
        "    assert func(i) == o\n",
        "    print(\"Passed\")\n",
        "  except:\n",
        "    print(\"Failed\")"
      ],
      "metadata": {
        "id": "cHrdiz2svjWY"
      },
      "execution_count": null,
      "outputs": []
    },
    {
      "cell_type": "code",
      "execution_count": null,
      "metadata": {
        "colab": {
          "base_uri": "https://localhost:8080/"
        },
        "id": "RRZX7rshcH0c",
        "outputId": "09990de0-5bf7-4610-cfea-87b48a00931a"
      },
      "outputs": [
        {
          "output_type": "stream",
          "name": "stdout",
          "text": [
            "Passed\n",
            "Passed\n",
            "Passed\n"
          ]
        }
      ],
      "source": [
        "# test case 1 (10 pt)\n",
        "test(tribo_recur, 0, 0)\n",
        "test(tribo_recur, 2, 1)\n",
        "test(tribo_recur, 1, 1)"
      ]
    },
    {
      "cell_type": "code",
      "source": [
        "# test case 2 (10 pt)\n",
        "test(tribo_recur, 3, 2)\n",
        "test(tribo_recur, 4, 4)\n",
        "test(tribo_recur, 5, 7)"
      ],
      "metadata": {
        "colab": {
          "base_uri": "https://localhost:8080/"
        },
        "id": "xvdsZsTUwG7_",
        "outputId": "61bbeee5-3342-4673-c953-b7895c44a920"
      },
      "execution_count": null,
      "outputs": [
        {
          "output_type": "stream",
          "name": "stdout",
          "text": [
            "Passed\n",
            "Passed\n",
            "Passed\n"
          ]
        }
      ]
    },
    {
      "cell_type": "markdown",
      "source": [
        "## \"Wall clock\" counting for Exercise 1\n",
        "You can use these two code cells to have a sense (just a sense of) how the time changes compare to the input change"
      ],
      "metadata": {
        "id": "X8hYKfKvxEoW"
      }
    },
    {
      "cell_type": "code",
      "source": [
        "%%timeit\n",
        "tribo_recur(10)"
      ],
      "metadata": {
        "colab": {
          "base_uri": "https://localhost:8080/"
        },
        "id": "YLpnVx2Ywddf",
        "outputId": "0302188a-98b2-4dc8-a21b-6941ddca8073"
      },
      "execution_count": null,
      "outputs": [
        {
          "output_type": "stream",
          "name": "stdout",
          "text": [
            "49.3 µs ± 570 ns per loop (mean ± std. dev. of 7 runs, 10000 loops each)\n"
          ]
        }
      ]
    },
    {
      "cell_type": "code",
      "source": [
        "%%timeit\n",
        "tribo_recur(30)"
      ],
      "metadata": {
        "colab": {
          "base_uri": "https://localhost:8080/"
        },
        "id": "Ropi-n-XxTwA",
        "outputId": "eb844832-1d42-410e-9e1a-6578a99f0ee4"
      },
      "execution_count": null,
      "outputs": [
        {
          "output_type": "stream",
          "name": "stdout",
          "text": [
            "9.81 s ± 440 ms per loop (mean ± std. dev. of 7 runs, 1 loop each)\n"
          ]
        }
      ]
    },
    {
      "cell_type": "markdown",
      "source": [
        "## Reflection on Exercise 1\n",
        "Please answers the following questions (by typing the answer) in the following code cell.\n",
        "- from 30 values to 10, what is the rate (ratio, order of growth) of input size change?\n",
        "- from your execution, what is the rate (ratio, order of growth) of the execution time. Instruction: Take the time displayed, convert to the same unit, do the division and print the rate.\n",
        "\n",
        "\n",
        "What is the time complexity O(?) of this implementation. Please print your answer as either one of the following\n",
        "- \"constant\" (if it is O(1))\n",
        "- \"logarithmic\" (if it is O(logn))\n",
        "- \"linear\" (if it is O(n))\n",
        "- \"log linear\" if it is O(nlogn)\n",
        "- \"quadratic\" if it is O(n^2)\n",
        "- \"exponential\" if it is O(3^n)"
      ],
      "metadata": {
        "id": "1C98jr9hdk5Z"
      }
    },
    {
      "cell_type": "code",
      "source": [
        "# CODE_HERE (5 pt)\n",
        "print ('input change ratio is 3')\n",
        "print ('time change ratio is 771,929.825')\n",
        "print ('time complexity type log linear')"
      ],
      "metadata": {
        "id": "2KQLb5BndkNf",
        "colab": {
          "base_uri": "https://localhost:8080/"
        },
        "outputId": "c6a27b05-de00-4329-c1c8-ad8bace28592"
      },
      "execution_count": null,
      "outputs": [
        {
          "output_type": "stream",
          "name": "stdout",
          "text": [
            "input change ratio is 3\n",
            "time change ratio is 771,929.825\n",
            "time complexity type log linear\n"
          ]
        }
      ]
    },
    {
      "cell_type": "markdown",
      "source": [
        "## Exercise 2. Dynamic programming using dictionary (memoization)\n",
        "Implement this algorithm using recursive approach and memoization."
      ],
      "metadata": {
        "id": "zWzcqHheyH-c"
      }
    },
    {
      "cell_type": "code",
      "source": [
        "def tribo_recur_mem(n):\n",
        "  def helper(n, mem):\n",
        "    key = n\n",
        "    # 1. if key not in mem\n",
        "    # - do the computation as the Exercise 1 \n",
        "    # - change return to ret = \n",
        "    # - change the method name to helper in recursive calls\n",
        "    # - set mem[key] = ret\n",
        "    # 2. return mem[key]\n",
        "    # CODE_HERE\n",
        "    if key not in mem:\n",
        "      if n == 0:\n",
        "        ret = 0\n",
        "        mem[key] = ret\n",
        "      elif n == 1 or n == 2:\n",
        "        ret = 1\n",
        "        mem[key] = ret\n",
        "      else:\n",
        "        ret = helper(n-1, {}) + helper(n-2, {}) + helper(n-3, {})\n",
        "        mem[key] = ret\n",
        "    return mem[key]\n",
        "  return helper(n, {})"
      ],
      "metadata": {
        "id": "nhk-U7o8yHIk"
      },
      "execution_count": 38,
      "outputs": []
    },
    {
      "cell_type": "code",
      "source": [
        "# test case 1 (10 pt)\n",
        "test(tribo_recur_mem, 0, 0)\n",
        "test(tribo_recur_mem, 1, 1)\n",
        "test(tribo_recur_mem, 2, 1)"
      ],
      "metadata": {
        "colab": {
          "base_uri": "https://localhost:8080/",
          "height": 218
        },
        "id": "05c6hHFgeMI6",
        "outputId": "75d1a660-22bf-4bb3-b2c7-5ec0748a91d9"
      },
      "execution_count": 39,
      "outputs": [
        {
          "output_type": "error",
          "ename": "NameError",
          "evalue": "ignored",
          "traceback": [
            "\u001b[0;31m---------------------------------------------------------------------------\u001b[0m",
            "\u001b[0;31mNameError\u001b[0m                                 Traceback (most recent call last)",
            "\u001b[0;32m<ipython-input-39-656ad7604a31>\u001b[0m in \u001b[0;36m<module>\u001b[0;34m\u001b[0m\n\u001b[1;32m      1\u001b[0m \u001b[0;31m# test case 1 (10 pt)\u001b[0m\u001b[0;34m\u001b[0m\u001b[0;34m\u001b[0m\u001b[0;34m\u001b[0m\u001b[0m\n\u001b[0;32m----> 2\u001b[0;31m \u001b[0mtest\u001b[0m\u001b[0;34m(\u001b[0m\u001b[0mtribo_recur_mem\u001b[0m\u001b[0;34m,\u001b[0m \u001b[0;36m0\u001b[0m\u001b[0;34m,\u001b[0m \u001b[0;36m0\u001b[0m\u001b[0;34m)\u001b[0m\u001b[0;34m\u001b[0m\u001b[0;34m\u001b[0m\u001b[0m\n\u001b[0m\u001b[1;32m      3\u001b[0m \u001b[0mtest\u001b[0m\u001b[0;34m(\u001b[0m\u001b[0mtribo_recur_mem\u001b[0m\u001b[0;34m,\u001b[0m \u001b[0;36m1\u001b[0m\u001b[0;34m,\u001b[0m \u001b[0;36m1\u001b[0m\u001b[0;34m)\u001b[0m\u001b[0;34m\u001b[0m\u001b[0;34m\u001b[0m\u001b[0m\n\u001b[1;32m      4\u001b[0m \u001b[0mtest\u001b[0m\u001b[0;34m(\u001b[0m\u001b[0mtribo_recur_mem\u001b[0m\u001b[0;34m,\u001b[0m \u001b[0;36m2\u001b[0m\u001b[0;34m,\u001b[0m \u001b[0;36m1\u001b[0m\u001b[0;34m)\u001b[0m\u001b[0;34m\u001b[0m\u001b[0;34m\u001b[0m\u001b[0m\n",
            "\u001b[0;31mNameError\u001b[0m: name 'test' is not defined"
          ]
        }
      ]
    },
    {
      "cell_type": "code",
      "source": [
        "# test case 2 (10 pt)\n",
        "test(tribo_recur_mem, 3, 2)\n",
        "test(tribo_recur_mem, 4, 4)\n",
        "test(tribo_recur_mem, 5, 7)"
      ],
      "metadata": {
        "colab": {
          "base_uri": "https://localhost:8080/",
          "height": 218
        },
        "id": "o3p_qCyozAEI",
        "outputId": "a75d2f54-1068-4d71-85cf-8ab3785781b3"
      },
      "execution_count": 40,
      "outputs": [
        {
          "output_type": "error",
          "ename": "NameError",
          "evalue": "ignored",
          "traceback": [
            "\u001b[0;31m---------------------------------------------------------------------------\u001b[0m",
            "\u001b[0;31mNameError\u001b[0m                                 Traceback (most recent call last)",
            "\u001b[0;32m<ipython-input-40-e709f2045914>\u001b[0m in \u001b[0;36m<module>\u001b[0;34m\u001b[0m\n\u001b[1;32m      1\u001b[0m \u001b[0;31m# test case 2 (10 pt)\u001b[0m\u001b[0;34m\u001b[0m\u001b[0;34m\u001b[0m\u001b[0;34m\u001b[0m\u001b[0m\n\u001b[0;32m----> 2\u001b[0;31m \u001b[0mtest\u001b[0m\u001b[0;34m(\u001b[0m\u001b[0mtribo_recur_mem\u001b[0m\u001b[0;34m,\u001b[0m \u001b[0;36m3\u001b[0m\u001b[0;34m,\u001b[0m \u001b[0;36m2\u001b[0m\u001b[0;34m)\u001b[0m\u001b[0;34m\u001b[0m\u001b[0;34m\u001b[0m\u001b[0m\n\u001b[0m\u001b[1;32m      3\u001b[0m \u001b[0mtest\u001b[0m\u001b[0;34m(\u001b[0m\u001b[0mtribo_recur_mem\u001b[0m\u001b[0;34m,\u001b[0m \u001b[0;36m4\u001b[0m\u001b[0;34m,\u001b[0m \u001b[0;36m4\u001b[0m\u001b[0;34m)\u001b[0m\u001b[0;34m\u001b[0m\u001b[0;34m\u001b[0m\u001b[0m\n\u001b[1;32m      4\u001b[0m \u001b[0mtest\u001b[0m\u001b[0;34m(\u001b[0m\u001b[0mtribo_recur_mem\u001b[0m\u001b[0;34m,\u001b[0m \u001b[0;36m5\u001b[0m\u001b[0;34m,\u001b[0m \u001b[0;36m7\u001b[0m\u001b[0;34m)\u001b[0m\u001b[0;34m\u001b[0m\u001b[0;34m\u001b[0m\u001b[0m\n",
            "\u001b[0;31mNameError\u001b[0m: name 'test' is not defined"
          ]
        }
      ]
    },
    {
      "cell_type": "markdown",
      "source": [
        "## \"Wall clock\" counting for Exercise 2\n",
        "You can use these two code cells to have a sense (just a sense of) how the time changes compare to the input change"
      ],
      "metadata": {
        "id": "Wf6hprqvzkri"
      }
    },
    {
      "cell_type": "code",
      "source": [
        "%%timeit\n",
        "tribo_recur_mem(10)"
      ],
      "metadata": {
        "colab": {
          "base_uri": "https://localhost:8080/"
        },
        "id": "U_78NFvRzlTS",
        "outputId": "ff67963a-ef94-4a17-87e0-10fa6fd7c617"
      },
      "execution_count": null,
      "outputs": [
        {
          "output_type": "stream",
          "name": "stdout",
          "text": [
            "6.54 µs ± 56 ns per loop (mean ± std. dev. of 7 runs, 100000 loops each)\n"
          ]
        }
      ]
    },
    {
      "cell_type": "code",
      "source": [
        "%%timeit\n",
        "tribo_recur_mem(30)"
      ],
      "metadata": {
        "colab": {
          "base_uri": "https://localhost:8080/"
        },
        "id": "DoFaYUuKz5NC",
        "outputId": "20a12856-038a-45ea-f3ce-960a0939236a"
      },
      "execution_count": null,
      "outputs": [
        {
          "output_type": "stream",
          "name": "stdout",
          "text": [
            "21.2 µs ± 569 ns per loop (mean ± std. dev. of 7 runs, 10000 loops each)\n"
          ]
        }
      ]
    },
    {
      "cell_type": "markdown",
      "source": [
        "## Reflection on Exercise 2\n",
        "Please answers the following questions (by typing the answer) in the following code cell.\n",
        "- from 30 values to 10, what is the rate (ratio, order of growth) of input size change?\n",
        "- from your execution, what is the rate (ratio, order of growth) of the execution time. Instruction: Take the time displayed, convert to the same unit, do the division and print the rate.\n",
        "\n",
        "\n",
        "What is the time complexity O(?) of this implementation. Please print your answer as either one of the following\n",
        "- \"constant\" (if it is O(1))\n",
        "- \"logarithmic\" (if it is O(logn))\n",
        "- \"linear\" (if it is O(n))\n",
        "- \"log linear\" if it is O(nlogn)\n",
        "- \"quadratic\" if it is O(n^2)\n",
        "- \"exponential\" if it is O(3^n)"
      ],
      "metadata": {
        "id": "1BSjOVtWzOSQ"
      }
    },
    {
      "cell_type": "code",
      "source": [
        "# CODE_HERE (5 pt)\n",
        "# print 'input change ratio xxx'\n",
        "# print 'time change ratio xxx'\n",
        "# print 'time complexity type'"
      ],
      "metadata": {
        "id": "HBl8Zjhe6sgp"
      },
      "execution_count": null,
      "outputs": []
    },
    {
      "cell_type": "markdown",
      "source": [
        "# Exercise 3. Dynamic programming using list\n",
        "Recursive and memoization has linear complexity with the trade off of some space. However, it still involves linear number of recursive calls. Thus, we can make use of a list to avoid recursive calls."
      ],
      "metadata": {
        "id": "xcaC6ImO0O3C"
      }
    },
    {
      "cell_type": "code",
      "source": [
        "def tribo_dp(n):\n",
        "  # 1. if n  is 0 return 0\n",
        "  # 2. if n is 1 or 2 return 1\n",
        "  # 3. otherwise\n",
        "  # 3.1 declare a list called dp with n+1 zeros (Hint: dp = [0]*(n+1))\n",
        "  # 3.2 initialize 0 to dp[0], 1 to dp[1] and dp[2]\n",
        "  # 3.3 for i from 3 to n, dp[i] is the sum of the previous three elements\n",
        "  # 3.4 return dp[i]\n",
        "  # CODE_HERE  \n",
        "  "
      ],
      "metadata": {
        "id": "Blg6Xw480I7R"
      },
      "execution_count": null,
      "outputs": []
    },
    {
      "cell_type": "code",
      "source": [
        "# test case 1\n",
        "test(tribo_dp, 0, 0)\n",
        "test(tribo_dp, 1, 1)\n",
        "test(tribo_dp, 2, 1)"
      ],
      "metadata": {
        "colab": {
          "base_uri": "https://localhost:8080/"
        },
        "id": "LqhhIdM-0Jc8",
        "outputId": "e61a7e25-ca11-4b53-b56d-a2a64508836c"
      },
      "execution_count": null,
      "outputs": [
        {
          "output_type": "stream",
          "name": "stdout",
          "text": [
            "Passed\n",
            "Passed\n",
            "Passed\n"
          ]
        }
      ]
    },
    {
      "cell_type": "code",
      "source": [
        "# test case 2\n",
        "test(tribo_dp, 3, 2)\n",
        "test(tribo_dp, 4, 4)\n",
        "test(tribo_dp, 5, 7)"
      ],
      "metadata": {
        "colab": {
          "base_uri": "https://localhost:8080/"
        },
        "id": "wZ6OeRfj1qVT",
        "outputId": "a23e4811-5d90-4c4f-dcb8-bb1b69539f76"
      },
      "execution_count": null,
      "outputs": [
        {
          "output_type": "stream",
          "name": "stdout",
          "text": [
            "Passed\n",
            "Passed\n",
            "Passed\n"
          ]
        }
      ]
    },
    {
      "cell_type": "markdown",
      "source": [
        "## \"Wall clock\" counting for Exercise 3\n",
        "You can use these two code cells to have a sense (just a sense of) how the time changes compare to the input change"
      ],
      "metadata": {
        "id": "hVg6HOP3_R3Q"
      }
    },
    {
      "cell_type": "code",
      "source": [
        "%%timeit\n",
        "tribo_dp(10)"
      ],
      "metadata": {
        "colab": {
          "base_uri": "https://localhost:8080/"
        },
        "id": "SizIkeXT_TUX",
        "outputId": "768e0fb5-d3a6-4a55-dc68-2ea624ff55e8"
      },
      "execution_count": null,
      "outputs": [
        {
          "output_type": "stream",
          "name": "stdout",
          "text": [
            "2.36 µs ± 48.3 ns per loop (mean ± std. dev. of 7 runs, 100000 loops each)\n"
          ]
        }
      ]
    },
    {
      "cell_type": "code",
      "source": [
        "%%timeit\n",
        "tribo_dp(30)"
      ],
      "metadata": {
        "colab": {
          "base_uri": "https://localhost:8080/"
        },
        "id": "Qm1AFOBH_YYo",
        "outputId": "aba4789a-9b95-4c6b-dbee-05bad89d8f50"
      },
      "execution_count": null,
      "outputs": [
        {
          "output_type": "stream",
          "name": "stdout",
          "text": [
            "6.55 µs ± 103 ns per loop (mean ± std. dev. of 7 runs, 100000 loops each)\n"
          ]
        }
      ]
    },
    {
      "cell_type": "markdown",
      "source": [
        "## Reflection on Exercise 3\n",
        "Please answers the following questions (by typing the answer) in the following code cell.\n",
        "- from 30 values to 10, what is the rate (ratio, order of growth) of input size change?\n",
        "- from your execution, what is the rate (ratio, order of growth) of the execution time. Instruction: Take the time displayed, convert to the same unit, do the division and print the rate.\n",
        "\n",
        "\n",
        "What is the time complexity O(?) of this implementation. Please print your answer as either one of the following\n",
        "- \"constant\" (if it is O(1))\n",
        "- \"logarithmic\" (if it is O(logn))\n",
        "- \"linear\" (if it is O(n))\n",
        "- \"log linear\" if it is O(nlogn)\n",
        "- \"quadratic\" if it is O(n^2)\n",
        "- \"exponential\" if it is O(3^n)"
      ],
      "metadata": {
        "id": "lMF85ujV_GIV"
      }
    },
    {
      "cell_type": "code",
      "source": [
        "# CODE_HERE (5 pt)\n",
        "# print 'input change ratio xxx'\n",
        "# print 'time change ratio xxx'\n",
        "# print 'time complexity type'"
      ],
      "metadata": {
        "id": "A9LWhFD1_mnR"
      },
      "execution_count": null,
      "outputs": []
    },
    {
      "cell_type": "markdown",
      "source": [
        "# Exercise 4. Iterative approach\n",
        "Both dynamic approaches (using list and using dictionary) are linear in terms of time and complexity O(n). The linear approach is better that it doesn't require the space for storing all the outputs. Specifically, we do not need the whole sequence from 1 to n but want only the last one. Thus, we can use iterative approach to save space. This approach is like using 4 pointers at at time. One for the current value, one for the -1 step value, one for -2 steps value, one for -3 steps value."
      ],
      "metadata": {
        "id": "e4OxiLf1_1_n"
      }
    },
    {
      "cell_type": "code",
      "source": [
        "def tribo_iter(n):\n",
        "  # 1. if n  is 0 return 0\n",
        "  # 2. if n is 1 or 2 return 1\n",
        "  # 3. otherwise\n",
        "  # 3.1 declare p0 and initialize with 0, p1 and initialize with 1, p2 and initialize with 1\n",
        "  # 3.3 for i from 3 to n:\n",
        "  # 3.3.1 p is the sum of p0, p1, p2\n",
        "  # 3.3.2 shift these pointers: p0 becomes p1\n",
        "  # 3.4 return p\n",
        "  # CODE_HERE\n",
        "  "
      ],
      "metadata": {
        "id": "pd-Ux6YU_uvM"
      },
      "execution_count": null,
      "outputs": []
    },
    {
      "cell_type": "code",
      "source": [
        "# test case 1\n",
        "test(tribo_iter, 0, 0)\n",
        "test(tribo_iter, 1, 1)\n",
        "test(tribo_iter, 2, 1)"
      ],
      "metadata": {
        "colab": {
          "base_uri": "https://localhost:8080/"
        },
        "id": "XBe7pFRKBEf5",
        "outputId": "58c16453-f421-42cf-9a8f-ecabb785ae09"
      },
      "execution_count": null,
      "outputs": [
        {
          "output_type": "stream",
          "name": "stdout",
          "text": [
            "Passed\n",
            "Passed\n",
            "Passed\n"
          ]
        }
      ]
    },
    {
      "cell_type": "code",
      "source": [
        "# test case 2\n",
        "test(tribo_iter, 3, 2)\n",
        "test(tribo_iter, 4, 4)\n",
        "test(tribo_iter, 5, 7)"
      ],
      "metadata": {
        "colab": {
          "base_uri": "https://localhost:8080/"
        },
        "id": "M-dfRWWBBIHY",
        "outputId": "82ea1d12-50cb-43d1-df60-75dd61d4ae5b"
      },
      "execution_count": null,
      "outputs": [
        {
          "output_type": "stream",
          "name": "stdout",
          "text": [
            "Passed\n",
            "Passed\n",
            "Passed\n"
          ]
        }
      ]
    },
    {
      "cell_type": "markdown",
      "source": [
        "## \"Wall clock\" counting for Exercise 4\n",
        "You can use these two code cells to have a sense (just a sense of) how the time changes compare to the input change"
      ],
      "metadata": {
        "id": "u5hpxTPNBPpZ"
      }
    },
    {
      "cell_type": "code",
      "source": [
        "%%timeit\n",
        "tribo_iter(10)"
      ],
      "metadata": {
        "colab": {
          "base_uri": "https://localhost:8080/"
        },
        "id": "xqay3NQHBUcN",
        "outputId": "9ec64bc1-aebd-4ed2-b7cf-0c398526f549"
      },
      "execution_count": null,
      "outputs": [
        {
          "output_type": "stream",
          "name": "stdout",
          "text": [
            "1.15 µs ± 8.08 ns per loop (mean ± std. dev. of 7 runs, 1000000 loops each)\n"
          ]
        }
      ]
    },
    {
      "cell_type": "code",
      "source": [
        "%%timeit\n",
        "tribo_iter(30)"
      ],
      "metadata": {
        "colab": {
          "base_uri": "https://localhost:8080/"
        },
        "id": "UjcMesQ7BXRl",
        "outputId": "2d1af0bf-fb10-4dd6-df38-74065b8d5bbc"
      },
      "execution_count": null,
      "outputs": [
        {
          "output_type": "stream",
          "name": "stdout",
          "text": [
            "3.36 µs ± 59 ns per loop (mean ± std. dev. of 7 runs, 100000 loops each)\n"
          ]
        }
      ]
    },
    {
      "cell_type": "markdown",
      "source": [
        "## Reflection on Exercise 4\n",
        "Please answers the following questions (by typing the answer) in the following code cell.\n",
        "- from 30 values to 10, what is the rate (ratio, order of growth) of input size change?\n",
        "- from your execution, what is the rate (ratio, order of growth) of the execution time. Instruction: Take the time displayed, convert to the same unit, do the division and print the rate.\n",
        "\n",
        "\n",
        "What is the time complexity O(?) of this implementation. Please print your answer as either one of the following\n",
        "- \"constant\" (if it is O(1))\n",
        "- \"logarithmic\" (if it is O(logn))\n",
        "- \"linear\" (if it is O(n))\n",
        "- \"log linear\" if it is O(nlogn)\n",
        "- \"quadratic\" if it is O(n^2)\n",
        "- \"exponential\" if it is O(3^n)"
      ],
      "metadata": {
        "id": "R51nHomxBf0-"
      }
    },
    {
      "cell_type": "code",
      "source": [
        "# CODE_HERE (5 pt)\n",
        "# print 'input change ratio xxx'\n",
        "# print 'time change ratio xxx'\n",
        "# print 'time complexity type'\n"
      ],
      "metadata": {
        "id": "WFcWi2SLBaFU"
      },
      "execution_count": null,
      "outputs": []
    },
    {
      "cell_type": "markdown",
      "source": [
        "# Reflection\n",
        "By now, you should have mastered main techniques to perform some algorithms, namely:\n",
        "- Recursive approach\n",
        "- Dynamic programming using dictionary or memoization\n",
        "- Dynamic programming using list\n",
        "- Iterative approach\n",
        "\n",
        "You should be able to analyze the pros and cons of each approach and how to move from one to another."
      ],
      "metadata": {
        "id": "_E61cVgVOaNi"
      }
    },
    {
      "cell_type": "code",
      "source": [],
      "metadata": {
        "id": "MsHFY9oBBqPp"
      },
      "execution_count": null,
      "outputs": []
    }
  ]
}